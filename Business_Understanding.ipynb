{
  "nbformat": 4,
  "nbformat_minor": 0,
  "metadata": {
    "colab": {
      "provenance": [],
      "mount_file_id": "1_QuMkJummopsPsc66RleTN3kbU85WVO1",
      "authorship_tag": "ABX9TyP0hYBjdxbCXTyop4W0wD0l",
      "include_colab_link": true
    },
    "kernelspec": {
      "name": "python3",
      "display_name": "Python 3"
    },
    "language_info": {
      "name": "python"
    }
  },
  "cells": [
    {
      "cell_type": "markdown",
      "metadata": {
        "id": "view-in-github",
        "colab_type": "text"
      },
      "source": [
        "<a href=\"https://colab.research.google.com/github/JM-glich/Stroke-Prediction/blob/main/Business_Understanding.ipynb\" target=\"_parent\"><img src=\"https://colab.research.google.com/assets/colab-badge.svg\" alt=\"Open In Colab\"/></a>"
      ]
    },
    {
      "cell_type": "markdown",
      "source": [
        "# **BUSINESS UNDERSTANDING**"
      ],
      "metadata": {
        "id": "FTGHZA5DiOnv"
      }
    },
    {
      "cell_type": "markdown",
      "source": [
        "## **Business Objective**"
      ],
      "metadata": {
        "id": "H--qIFoAiVX7"
      }
    },
    {
      "cell_type": "markdown",
      "source": [
        "Objektif dari projek ini adalah untuk mencari pola dan memprediksi penyakit stroke berdasarkan faktor dan informasi kesehatan pasien guna membantu dokter dalam pengambilan keputusan medis yang tepat. Selain itu ini akan membantu dokter dalam memprioritaskan pasien dan efisiensi dalam perawatan."
      ],
      "metadata": {
        "id": "upPKLWZrionU"
      }
    },
    {
      "cell_type": "markdown",
      "source": [
        "## **Assess situation**"
      ],
      "metadata": {
        "id": "U-8a-ZCAkhXv"
      }
    },
    {
      "cell_type": "markdown",
      "source": [
        "Kondisi di mana meningkatnya jumlah pasien dengan faktor dan risiko terkena stroke sementara terbatasnya tenaga medis dalan melakukan diagnosis dini menjadi tantangan utama yang harus diatasi. Selain itu kurangnya kesadaran akan gaya hidup tidak sehat seperti merokok, obesitas, kurang aktifitas fisik juga menjadi hal yang perlu diperhatikan. Dengan adanya analisis yang dilakukan diharapkan dapat mengatasi masalah ini."
      ],
      "metadata": {
        "id": "ASAo_laMkrjB"
      }
    },
    {
      "cell_type": "markdown",
      "source": [
        "## **Data Mining Goals**"
      ],
      "metadata": {
        "id": "BHDIpsF_oh2t"
      }
    },
    {
      "cell_type": "markdown",
      "source": [
        "Menemukan pola dalam faktor risiko dengan mengidentifikasi hubungan variable-variable medis dan kejadian stroke. Lalu, mengelompokkan pasien berdasarkan risiko stroke dan menganalisis efisiensi perawatannya. Serta jika memungkinkan, membangun model prediksi stroke berdasarkan faktor kesehatan pasien."
      ],
      "metadata": {
        "id": "A7hWRWDXot-R"
      }
    },
    {
      "cell_type": "markdown",
      "source": [
        "## **Project Plan**"
      ],
      "metadata": {
        "id": "XJjmTaIyqDKB"
      }
    },
    {
      "cell_type": "markdown",
      "source": [
        "Tahapan atau rencana pengerjaannya:\n",
        "1. Pengumpulan Data. Mengumpulkan dataset yang berisi resiko atau prediksi stroke. Variable yang dikumpulan seperti Usia, diabetes, BMI, riwayat merokok, aktifitas fisik, dan lain-lain yang sekiranya dibutuhkan. Lalu mencari informasi mengenai faktor risiko stroke.\n",
        "\n",
        "2. Mempersiapkan dan Membersihkan Data. Tujuannya untuk mempersiapkan data untuk dianalisis.\n",
        "Langkah-langkahnya bisa berupa:\n",
        "- Mengatasi missing values atau data kosong.\n",
        "- Menghapus atau menangani Outlier.\n",
        "- Jika diperlukan, melakukan semacam standarisasi data.\n",
        "- Mengubah data kategorial menjadi data numerik untuk memudahkan analisis jika diperlukan.\n",
        "\n",
        "3. Exploratory Data Analysis (EDA). Pada dasarnya menganalisis data yang bertujuan untuk memahami distrubusi data, pola-polanya, dan korelasi antara variablenya. Hal ini meliputi Visualisasi data (Misal dengan Histogram, diagram, heatmap korelasi), Analisis stastistik, dan mengidenfikasi variable yang paling berpengaru terhadap risiko stroke.\n",
        "\n",
        "4. Pengembangan Model(Jika memungkinkan dan saya mampu serta paham). Membangun model prediksi stroke yang akurat dengan berdasarkan analisis data serta metode predeksi seperti metode Naive Bayes, Decision Tree, atau Logistic Regression.\n",
        "\n",
        "5. Evaluasi. Menentukan model yang efisien dan efektif dalam kinerjanya. Lalu, mencoba model pada data real-world dan memantau performa model. Serta melakukan evaluasi tahapan plan dan menjadikan bahan informasi untuk kedepannya."
      ],
      "metadata": {
        "id": "7_hgrH6qrbUe"
      }
    }
  ]
}